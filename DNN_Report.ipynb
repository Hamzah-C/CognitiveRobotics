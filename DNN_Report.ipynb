{
 "cells": [
  {
   "cell_type": "code",
   "execution_count": 1,
   "metadata": {},
   "outputs": [],
   "source": [
    "import numpy as np\n",
    "import pandas as pd\n",
    "import tensorflow as tf\n",
    "\n",
    "from tensorflow.keras.datasets import cifar10\n",
    "from tensorflow.keras.models import Sequential\n",
    "from tensorflow.keras.layers import Conv2D, MaxPooling2D, Flatten, Dense, Input, Dropout\n",
    "from tensorflow.keras.optimizers import Adam"
   ]
  },
  {
   "cell_type": "code",
   "execution_count": 2,
   "metadata": {},
   "outputs": [],
   "source": [
    "(X_train, y_train), (X_test, y_test) = cifar10.load_data()\n",
    "X_train = X_train / 255.0\n",
    "X_test = X_test / 255.0"
   ]
  },
  {
   "cell_type": "code",
   "execution_count": 3,
   "metadata": {},
   "outputs": [],
   "source": [
    "def create_model(learning_rate=0.001, dropout_rate=0.3, filters=64, kernel_size=(3,3)):\n",
    "    model = Sequential([\n",
    "        Input(shape=(32, 32, 3)),\n",
    "\n",
    "        Conv2D(filters, kernel_size, activation='relu'),\n",
    "        Conv2D(filters, kernel_size, activation='relu'),\n",
    "        \n",
    "        MaxPooling2D(pool_size=(2, 2)),\n",
    "        Dropout(dropout_rate),\n",
    "        \n",
    "        Conv2D(filters*2, kernel_size, activation='relu'),\n",
    "        Conv2D(filters*2, kernel_size, activation='relu'),\n",
    "\n",
    "        MaxPooling2D(pool_size=(2, 2)),\n",
    "        Dropout(dropout_rate),\n",
    "\n",
    "        Flatten(),\n",
    "\n",
    "        Dense(1024, activation='relu'),\n",
    "        Dropout(dropout_rate*2),\n",
    "\n",
    "        Dense(1024, activation='relu'),\n",
    "        Dropout(dropout_rate*2),\n",
    "\n",
    "        Dense(10, activation='softmax')\n",
    "    ])\n",
    "\n",
    "    optimizer = Adam(learning_rate=learning_rate)\n",
    "\n",
    "    model.compile(optimizer=optimizer, loss='sparse_categorical_crossentropy', metrics=['accuracy'])\n",
    "    \n",
    "    return model"
   ]
  },
  {
   "cell_type": "code",
   "execution_count": 4,
   "metadata": {},
   "outputs": [],
   "source": [
    "param_grid = {\n",
    "    'dropout_rate': [0.1, 0.2, 0.3],\n",
    "    'filters': [32, 64, 128],\n",
    "    'kernel_size': [(3, 3), (5, 5)]\n",
    "}"
   ]
  },
  {
   "cell_type": "code",
   "execution_count": 5,
   "metadata": {},
   "outputs": [
    {
     "name": "stdout",
     "output_type": "stream",
     "text": [
      "filters=32, kernel_size=(3, 3), dropout_rate=0.1, accuracy=0.7008\n",
      "filters=32, kernel_size=(5, 5), dropout_rate=0.1, accuracy=0.6763\n",
      "filters=64, kernel_size=(3, 3), dropout_rate=0.1, accuracy=0.6845\n",
      "filters=64, kernel_size=(5, 5), dropout_rate=0.1, accuracy=0.6891\n",
      "filters=128, kernel_size=(3, 3), dropout_rate=0.1, accuracy=0.6736\n",
      "filters=128, kernel_size=(5, 5), dropout_rate=0.1, accuracy=0.6823\n",
      "filters=32, kernel_size=(3, 3), dropout_rate=0.2, accuracy=0.685\n",
      "filters=32, kernel_size=(5, 5), dropout_rate=0.2, accuracy=0.673\n",
      "filters=64, kernel_size=(3, 3), dropout_rate=0.2, accuracy=0.6925\n",
      "filters=64, kernel_size=(5, 5), dropout_rate=0.2, accuracy=0.6915\n",
      "filters=128, kernel_size=(3, 3), dropout_rate=0.2, accuracy=0.6882\n",
      "filters=128, kernel_size=(5, 5), dropout_rate=0.2, accuracy=0.6778\n",
      "filters=32, kernel_size=(3, 3), dropout_rate=0.3, accuracy=0.6815\n",
      "filters=32, kernel_size=(5, 5), dropout_rate=0.3, accuracy=0.669\n",
      "filters=64, kernel_size=(3, 3), dropout_rate=0.3, accuracy=0.698\n",
      "filters=64, kernel_size=(5, 5), dropout_rate=0.3, accuracy=0.6865\n",
      "filters=128, kernel_size=(3, 3), dropout_rate=0.3, accuracy=0.6935\n",
      "filters=128, kernel_size=(5, 5), dropout_rate=0.3, accuracy=0.681\n"
     ]
    }
   ],
   "source": [
    "for dropout_rate in param_grid['dropout_rate']:\n",
    "    for filters in param_grid['filters']:\n",
    "        for kernel_size in param_grid['kernel_size']:\n",
    "            model = create_model(dropout_rate=dropout_rate, filters=filters, kernel_size=kernel_size)\n",
    "            model.fit(X_train, y_train, epochs=5, batch_size=64, verbose=0, validation_data=(X_test, y_test))\n",
    "\n",
    "            accuracy = model.evaluate(X_test, y_test, verbose=0)[1]\n",
    "\n",
    "            print(f'filters={filters}, kernel_size={kernel_size}, dropout_rate={dropout_rate}, accuracy={round(accuracy[1], 4)}')"
   ]
  },
  {
   "cell_type": "code",
   "execution_count": 6,
   "metadata": {},
   "outputs": [
    {
     "name": "stdout",
     "output_type": "stream",
     "text": [
      "filters=64, kernel_size=(3, 3), dropout_rate=0.2, accuracy=0.7137\n",
      "filters=64, kernel_size=(3, 3), dropout_rate=0.25, accuracy=0.7443\n",
      "filters=64, kernel_size=(3, 3), dropout_rate=0.3, accuracy=0.7768\n"
     ]
    }
   ],
   "source": [
    "for dropout_rate in [0.2, 0.25, 0.3]:\n",
    "    model = create_model(dropout_rate=dropout_rate)\n",
    "    model.fit(X_train, y_train, epochs=10, batch_size=64, verbose=0, validation_data=(X_test, y_test))\n",
    "\n",
    "    accuracy = model.evaluate(X_test, y_test, verbose=0)[1]\n",
    "\n",
    "    print(f'filters=64, kernel_size=(3, 3), dropout_rate={dropout_rate}, accuracy={round(accuracy[1], 4)}')"
   ]
  },
  {
   "cell_type": "code",
   "execution_count": 7,
   "metadata": {},
   "outputs": [
    {
     "name": "stdout",
     "output_type": "stream",
     "text": [
      "Epoch 1/25\n",
      "313/313 [==============================] - 429s 1s/step - loss: 1.8039 - accuracy: 0.3263 - val_loss: 1.4217 - val_accuracy: 0.4871\n",
      "Epoch 2/25\n",
      "313/313 [==============================] - 416s 1s/step - loss: 1.3677 - accuracy: 0.4518 - val_loss: 1.1575 - val_accuracy: 0.6102\n",
      "Epoch 3/25\n",
      "313/313 [==============================] - 417s 1s/step - loss: 1.1662 - accuracy: 0.5307 - val_loss: 0.9674 - val_accuracy: 0.6867\n",
      "Epoch 4/25\n",
      "313/313 [==============================] - 417s 1s/step - loss: 1.0306 - accuracy: 0.5795 - val_loss: 0.8780 - val_accuracy: 0.7278\n",
      "Epoch 5/25\n",
      "313/313 [==============================] - 416s 1s/step - loss: 0.9314 - accuracy: 0.6178 - val_loss: 0.8197 - val_accuracy: 0.7536\n",
      "Epoch 6/25\n",
      "313/313 [==============================] - 417s 1s/step - loss: 0.8635 - accuracy: 0.6491 - val_loss: 0.7869 - val_accuracy: 0.7721\n",
      "Epoch 7/25\n",
      "313/313 [==============================] - 415s 1s/step - loss: 0.8128 - accuracy: 0.6757 - val_loss: 0.7526 - val_accuracy: 0.7862\n",
      "Epoch 8/25\n",
      "313/313 [==============================] - 419s 1s/step - loss: 0.7704 - accuracy: 0.6981 - val_loss: 0.7323 - val_accuracy: 0.7973\n",
      "Epoch 9/25\n",
      "313/313 [==============================] - 419s 1s/step - loss: 0.7344 - accuracy: 0.7176 - val_loss: 0.7175 - val_accuracy: 0.8064\n",
      "Epoch 10/25\n",
      "313/313 [==============================] - 417s 1s/step - loss: 0.7031 - accuracy: 0.7350 - val_loss: 0.7099 - val_accuracy: 0.8141\n",
      "Epoch 11/25\n",
      "313/313 [==============================] - 417s 1s/step - loss: 0.6746 - accuracy: 0.7491 - val_loss: 0.6975 - val_accuracy: 0.8207\n",
      "Epoch 12/25\n",
      "313/313 [==============================] - 415s 1s/step - loss: 0.6485 - accuracy: 0.7619 - val_loss: 0.6878 - val_accuracy: 0.8263\n",
      "Epoch 13/25\n",
      "313/313 [==============================] - 417s 1s/step - loss: 0.6249 - accuracy: 0.7735 - val_loss: 0.6844 - val_accuracy: 0.8309\n",
      "Epoch 14/25\n",
      "313/313 [==============================] - 417s 1s/step - loss: 0.6023 - accuracy: 0.7848 - val_loss: 0.6789 - val_accuracy: 0.8347\n",
      "Epoch 15/25\n",
      "313/313 [==============================] - 417s 1s/step - loss: 0.5812 - accuracy: 0.7948 - val_loss: 0.6759 - val_accuracy: 0.8381\n",
      "Epoch 16/25\n",
      "313/313 [==============================] - 417s 1s/step - loss: 0.5614 - accuracy: 0.8042 - val_loss: 0.6743 - val_accuracy: 0.8411\n",
      "Epoch 17/25\n",
      "313/313 [==============================] - 421s 1s/step - loss: 0.5429 - accuracy: 0.8131 - val_loss: 0.6743 - val_accuracy: 0.8438\n",
      "Epoch 18/25\n",
      "313/313 [==============================] - 417s 1s/step - loss: 0.5254 - accuracy: 0.8214 - val_loss: 0.6755 - val_accuracy: 0.8461\n",
      "Epoch 19/25\n",
      "313/313 [==============================] - 417s 1s/step - loss: 0.5086 - accuracy: 0.8291 - val_loss: 0.6773 - val_accuracy: 0.8480\n",
      "Epoch 20/25\n",
      "313/313 [==============================] - 416s 1s/step - loss: 0.4926 - accuracy: 0.8363 - val_loss: 0.6796 - val_accuracy: 0.8496\n",
      "Epoch 21/25\n",
      "313/313 [==============================] - 417s 1s/step - loss: 0.4772 - accuracy: 0.8431 - val_loss: 0.6823 - val_accuracy: 0.8511\n",
      "Epoch 22/25\n",
      "313/313 [==============================] - 420s 1s/step - loss: 0.4624 - accuracy: 0.8495 - val_loss: 0.6860 - val_accuracy: 0.8523\n",
      "Epoch 23/25\n",
      "313/313 [==============================] - 421s 1s/step - loss: 0.4481 - accuracy: 0.8555 - val_loss: 0.6902 - val_accuracy: 0.8533\n",
      "Epoch 24/25\n",
      "313/313 [==============================] - 422s 1s/step - loss: 0.4343 - accuracy: 0.8611 - val_loss: 0.6948 - val_accuracy: 0.8542\n",
      "Epoch 25/25\n",
      "313/313 [==============================] - 427s 1s/step - loss: 0.4210 - accuracy: 0.8664 - val_loss: 0.6997 - val_accuracy: 0.8550\n",
      "filters=64, kernel_size=(3, 3), dropout_rate=0.3, accuracy=0.8548\n"
     ]
    }
   ],
   "source": [
    "model = create_model()\n",
    "history = model.fit(X_train, y_train, epochs=25, batch_size=64, verbose=1, validation_data=(X_test, y_test))\n",
    "\n",
    "accuracy = model.evaluate(X_test, y_test, verbose=0)[1]\n",
    "\n",
    "print(f'filters=64, kernel_size=(3, 3), dropout_rate=0.3, accuracy={round(accuracy[1], 4)}')"
   ]
  }
 ],
 "metadata": {
  "kernelspec": {
   "display_name": "Python 3",
   "language": "python",
   "name": "python3"
  },
  "language_info": {
   "codemirror_mode": {
    "name": "ipython",
    "version": 3
   },
   "file_extension": ".py",
   "mimetype": "text/x-python",
   "name": "python",
   "nbconvert_exporter": "python",
   "pygments_lexer": "ipython3",
   "version": "3.11.4"
  }
 },
 "nbformat": 4,
 "nbformat_minor": 2
}
